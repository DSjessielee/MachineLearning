{
 "cells": [
  {
   "cell_type": "code",
   "execution_count": 9,
   "id": "a65450fa",
   "metadata": {},
   "outputs": [],
   "source": [
    "import IPython\n",
    "import pandas as pd\n",
    "import numpy as np\n",
    "import scipy as sp\n",
    "import pandas as pd\n",
    "import matplotlib.pyplot as plt\n",
    "import seaborn as sbs\n",
    "import sklearn as sk\n",
    "import statsmodels.formula.api as smf\n",
    "import statsmodels.api as sm\n",
    "import os\n",
    "from sklearn.datasets import load_boston\n",
    "from sklearn.ensemble import RandomForestRegressor\n",
    "from sklearn.model_selection import train_test_split\n",
    "from matplotlib.lines import Line2D\n",
    "from scipy.stats import pearsonr\n",
    "from sklearn.model_selection import train_test_split\n",
    "from sklearn.neighbors import KNeighborsRegressor\n",
    "from sklearn.preprocessing import StandardScaler\n",
    "from sklearn import metrics\n",
    "import time"
   ]
  },
  {
   "cell_type": "code",
   "execution_count": 2,
   "id": "93c13846",
   "metadata": {},
   "outputs": [],
   "source": [
    "'''\n",
    "import file\n",
    "\n",
    "'''\n",
    "\n",
    "beauty=pd.read_csv(r'BeautyData.csv',delimiter=',',encoding='iso-8859-1',low_memory=False)"
   ]
  },
  {
   "cell_type": "code",
   "execution_count": 3,
   "id": "86f6eb54",
   "metadata": {},
   "outputs": [
    {
     "data": {
      "text/html": [
       "<div>\n",
       "<style scoped>\n",
       "    .dataframe tbody tr th:only-of-type {\n",
       "        vertical-align: middle;\n",
       "    }\n",
       "\n",
       "    .dataframe tbody tr th {\n",
       "        vertical-align: top;\n",
       "    }\n",
       "\n",
       "    .dataframe thead th {\n",
       "        text-align: right;\n",
       "    }\n",
       "</style>\n",
       "<table border=\"1\" class=\"dataframe\">\n",
       "  <thead>\n",
       "    <tr style=\"text-align: right;\">\n",
       "      <th></th>\n",
       "      <th>CourseEvals</th>\n",
       "      <th>BeautyScore</th>\n",
       "      <th>female</th>\n",
       "      <th>lower</th>\n",
       "      <th>nonenglish</th>\n",
       "      <th>tenuretrack</th>\n",
       "    </tr>\n",
       "  </thead>\n",
       "  <tbody>\n",
       "    <tr>\n",
       "      <th>0</th>\n",
       "      <td>3.235245</td>\n",
       "      <td>0.201567</td>\n",
       "      <td>1</td>\n",
       "      <td>0</td>\n",
       "      <td>0</td>\n",
       "      <td>1</td>\n",
       "    </tr>\n",
       "    <tr>\n",
       "      <th>1</th>\n",
       "      <td>3.226328</td>\n",
       "      <td>-0.826081</td>\n",
       "      <td>0</td>\n",
       "      <td>0</td>\n",
       "      <td>0</td>\n",
       "      <td>1</td>\n",
       "    </tr>\n",
       "    <tr>\n",
       "      <th>2</th>\n",
       "      <td>3.647712</td>\n",
       "      <td>-0.660333</td>\n",
       "      <td>0</td>\n",
       "      <td>0</td>\n",
       "      <td>0</td>\n",
       "      <td>1</td>\n",
       "    </tr>\n",
       "    <tr>\n",
       "      <th>3</th>\n",
       "      <td>3.372062</td>\n",
       "      <td>-0.766312</td>\n",
       "      <td>1</td>\n",
       "      <td>0</td>\n",
       "      <td>0</td>\n",
       "      <td>1</td>\n",
       "    </tr>\n",
       "    <tr>\n",
       "      <th>4</th>\n",
       "      <td>4.292705</td>\n",
       "      <td>1.421445</td>\n",
       "      <td>1</td>\n",
       "      <td>0</td>\n",
       "      <td>0</td>\n",
       "      <td>1</td>\n",
       "    </tr>\n",
       "  </tbody>\n",
       "</table>\n",
       "</div>"
      ],
      "text/plain": [
       "   CourseEvals  BeautyScore  female  lower  nonenglish  tenuretrack\n",
       "0     3.235245     0.201567       1      0           0            1\n",
       "1     3.226328    -0.826081       0      0           0            1\n",
       "2     3.647712    -0.660333       0      0           0            1\n",
       "3     3.372062    -0.766312       1      0           0            1\n",
       "4     4.292705     1.421445       1      0           0            1"
      ]
     },
     "execution_count": 3,
     "metadata": {},
     "output_type": "execute_result"
    }
   ],
   "source": [
    "pd.DataFrame(beauty)\n",
    "beauty.head()"
   ]
  },
  {
   "cell_type": "code",
   "execution_count": 4,
   "id": "d7f9dcc2",
   "metadata": {},
   "outputs": [
    {
     "data": {
      "text/plain": [
       "CourseEvals    0\n",
       "BeautyScore    0\n",
       "female         0\n",
       "lower          0\n",
       "nonenglish     0\n",
       "tenuretrack    0\n",
       "dtype: int64"
      ]
     },
     "execution_count": 4,
     "metadata": {},
     "output_type": "execute_result"
    }
   ],
   "source": [
    "'''\n",
    "Data QC\n",
    "\n",
    "'''\n",
    "\n",
    "beauty.isnull().sum()"
   ]
  },
  {
   "cell_type": "code",
   "execution_count": 13,
   "id": "1280b160",
   "metadata": {},
   "outputs": [],
   "source": [
    "from sklearn.model_selection import train_test_split"
   ]
  },
  {
   "cell_type": "code",
   "execution_count": 14,
   "id": "0f1c756a",
   "metadata": {},
   "outputs": [
    {
     "data": {
      "text/html": [
       "<div>\n",
       "<style scoped>\n",
       "    .dataframe tbody tr th:only-of-type {\n",
       "        vertical-align: middle;\n",
       "    }\n",
       "\n",
       "    .dataframe tbody tr th {\n",
       "        vertical-align: top;\n",
       "    }\n",
       "\n",
       "    .dataframe thead th {\n",
       "        text-align: right;\n",
       "    }\n",
       "</style>\n",
       "<table border=\"1\" class=\"dataframe\">\n",
       "  <thead>\n",
       "    <tr style=\"text-align: right;\">\n",
       "      <th></th>\n",
       "      <th>BeautyScore</th>\n",
       "      <th>female</th>\n",
       "      <th>lower</th>\n",
       "      <th>nonenglish</th>\n",
       "      <th>tenuretrack</th>\n",
       "    </tr>\n",
       "  </thead>\n",
       "  <tbody>\n",
       "    <tr>\n",
       "      <th>0</th>\n",
       "      <td>0.201567</td>\n",
       "      <td>1</td>\n",
       "      <td>0</td>\n",
       "      <td>0</td>\n",
       "      <td>1</td>\n",
       "    </tr>\n",
       "    <tr>\n",
       "      <th>1</th>\n",
       "      <td>-0.826081</td>\n",
       "      <td>0</td>\n",
       "      <td>0</td>\n",
       "      <td>0</td>\n",
       "      <td>1</td>\n",
       "    </tr>\n",
       "    <tr>\n",
       "      <th>2</th>\n",
       "      <td>-0.660333</td>\n",
       "      <td>0</td>\n",
       "      <td>0</td>\n",
       "      <td>0</td>\n",
       "      <td>1</td>\n",
       "    </tr>\n",
       "    <tr>\n",
       "      <th>3</th>\n",
       "      <td>-0.766312</td>\n",
       "      <td>1</td>\n",
       "      <td>0</td>\n",
       "      <td>0</td>\n",
       "      <td>1</td>\n",
       "    </tr>\n",
       "    <tr>\n",
       "      <th>4</th>\n",
       "      <td>1.421445</td>\n",
       "      <td>1</td>\n",
       "      <td>0</td>\n",
       "      <td>0</td>\n",
       "      <td>1</td>\n",
       "    </tr>\n",
       "    <tr>\n",
       "      <th>...</th>\n",
       "      <td>...</td>\n",
       "      <td>...</td>\n",
       "      <td>...</td>\n",
       "      <td>...</td>\n",
       "      <td>...</td>\n",
       "    </tr>\n",
       "    <tr>\n",
       "      <th>458</th>\n",
       "      <td>1.143045</td>\n",
       "      <td>0</td>\n",
       "      <td>1</td>\n",
       "      <td>0</td>\n",
       "      <td>1</td>\n",
       "    </tr>\n",
       "    <tr>\n",
       "      <th>459</th>\n",
       "      <td>1.143045</td>\n",
       "      <td>0</td>\n",
       "      <td>0</td>\n",
       "      <td>0</td>\n",
       "      <td>1</td>\n",
       "    </tr>\n",
       "    <tr>\n",
       "      <th>460</th>\n",
       "      <td>0.332051</td>\n",
       "      <td>1</td>\n",
       "      <td>0</td>\n",
       "      <td>1</td>\n",
       "      <td>1</td>\n",
       "    </tr>\n",
       "    <tr>\n",
       "      <th>461</th>\n",
       "      <td>0.332051</td>\n",
       "      <td>1</td>\n",
       "      <td>0</td>\n",
       "      <td>1</td>\n",
       "      <td>1</td>\n",
       "    </tr>\n",
       "    <tr>\n",
       "      <th>462</th>\n",
       "      <td>0.332051</td>\n",
       "      <td>1</td>\n",
       "      <td>1</td>\n",
       "      <td>1</td>\n",
       "      <td>1</td>\n",
       "    </tr>\n",
       "  </tbody>\n",
       "</table>\n",
       "<p>463 rows × 5 columns</p>\n",
       "</div>"
      ],
      "text/plain": [
       "     BeautyScore  female  lower  nonenglish  tenuretrack\n",
       "0       0.201567       1      0           0            1\n",
       "1      -0.826081       0      0           0            1\n",
       "2      -0.660333       0      0           0            1\n",
       "3      -0.766312       1      0           0            1\n",
       "4       1.421445       1      0           0            1\n",
       "..           ...     ...    ...         ...          ...\n",
       "458     1.143045       0      1           0            1\n",
       "459     1.143045       0      0           0            1\n",
       "460     0.332051       1      0           1            1\n",
       "461     0.332051       1      0           1            1\n",
       "462     0.332051       1      1           1            1\n",
       "\n",
       "[463 rows x 5 columns]"
      ]
     },
     "execution_count": 14,
     "metadata": {},
     "output_type": "execute_result"
    }
   ],
   "source": [
    "'''\n",
    "defining target and features\n",
    "\n",
    "'''\n",
    "\n",
    "y=beauty['CourseEvals']\n",
    "X=beauty.drop(['CourseEvals'],axis=1)\n",
    "\n",
    "X"
   ]
  },
  {
   "cell_type": "code",
   "execution_count": 17,
   "id": "3ed461e5",
   "metadata": {},
   "outputs": [
    {
     "name": "stdout",
     "output_type": "stream",
     "text": [
      "X_train sample, features(370, 5)\n",
      "y_train sample (370,)\n",
      "X_test sample features (93, 5)\n",
      "y_test (93,)\n"
     ]
    }
   ],
   "source": [
    "'''\n",
    "train test split\n",
    "\n",
    "'''\n",
    "\n",
    "\n",
    "X_train, X_test, y_train, y_test = train_test_split(X, y, test_size=0.2, random_state=42)\n",
    "print('X_train sample, features{}'.format(X_train.shape))\n",
    "print('y_train sample {}'.format(y_train.shape))\n",
    "print('X_test sample features {}'.format(X_test.shape))\n",
    "print('y_test {}'.format(y_test.shape))"
   ]
  },
  {
   "cell_type": "code",
   "execution_count": 18,
   "id": "c090daa9",
   "metadata": {},
   "outputs": [
    {
     "name": "stdout",
     "output_type": "stream",
     "text": [
      "total time 32.096593141555786\n"
     ]
    }
   ],
   "source": [
    "'''\n",
    "Random Forest Algorithm\n",
    "\n",
    "Optimize parameter\n",
    "\n",
    "n estimator\n",
    "\n",
    "'''\n",
    "\n",
    "time1=time.time() \n",
    "\n",
    "\n",
    "min_n_est=5\n",
    "max_n_est=500\n",
    "n_step=5\n",
    "rmse_n_est=[] \n",
    "for i in range(min_n_est,max_n_est,n_step):\n",
    "    bty_mod=RandomForestRegressor(n_estimators=i, max_depth=100, max_leaf_nodes=500, min_samples_split=2, max_features='sqrt', random_state=42)\n",
    "    bty_mod.fit(X_train,y_train)\n",
    "    \n",
    "    y_pred=bty_mod.predict(X_test)\n",
    "    rmse_n_est.append(np.sqrt(metrics.mean_squared_error(y_test, y_pred)))\n",
    "\n",
    "time2=time.time()\n",
    "time_diff=time2-time1\n",
    "\n",
    "print('total time {}'.format(time_diff))"
   ]
  },
  {
   "cell_type": "code",
   "execution_count": 19,
   "id": "dbd6c5ce",
   "metadata": {},
   "outputs": [
    {
     "data": {
      "text/html": [
       "<div>\n",
       "<style scoped>\n",
       "    .dataframe tbody tr th:only-of-type {\n",
       "        vertical-align: middle;\n",
       "    }\n",
       "\n",
       "    .dataframe tbody tr th {\n",
       "        vertical-align: top;\n",
       "    }\n",
       "\n",
       "    .dataframe thead th {\n",
       "        text-align: right;\n",
       "    }\n",
       "</style>\n",
       "<table border=\"1\" class=\"dataframe\">\n",
       "  <thead>\n",
       "    <tr style=\"text-align: right;\">\n",
       "      <th></th>\n",
       "      <th>n_estimator</th>\n",
       "      <th>rmse</th>\n",
       "    </tr>\n",
       "  </thead>\n",
       "  <tbody>\n",
       "    <tr>\n",
       "      <th>0</th>\n",
       "      <td>5</td>\n",
       "      <td>0.511921</td>\n",
       "    </tr>\n",
       "    <tr>\n",
       "      <th>1</th>\n",
       "      <td>10</td>\n",
       "      <td>0.508835</td>\n",
       "    </tr>\n",
       "    <tr>\n",
       "      <th>2</th>\n",
       "      <td>15</td>\n",
       "      <td>0.509756</td>\n",
       "    </tr>\n",
       "    <tr>\n",
       "      <th>3</th>\n",
       "      <td>20</td>\n",
       "      <td>0.503125</td>\n",
       "    </tr>\n",
       "    <tr>\n",
       "      <th>4</th>\n",
       "      <td>25</td>\n",
       "      <td>0.501046</td>\n",
       "    </tr>\n",
       "    <tr>\n",
       "      <th>...</th>\n",
       "      <td>...</td>\n",
       "      <td>...</td>\n",
       "    </tr>\n",
       "    <tr>\n",
       "      <th>94</th>\n",
       "      <td>475</td>\n",
       "      <td>0.494770</td>\n",
       "    </tr>\n",
       "    <tr>\n",
       "      <th>95</th>\n",
       "      <td>480</td>\n",
       "      <td>0.494790</td>\n",
       "    </tr>\n",
       "    <tr>\n",
       "      <th>96</th>\n",
       "      <td>485</td>\n",
       "      <td>0.494947</td>\n",
       "    </tr>\n",
       "    <tr>\n",
       "      <th>97</th>\n",
       "      <td>490</td>\n",
       "      <td>0.495178</td>\n",
       "    </tr>\n",
       "    <tr>\n",
       "      <th>98</th>\n",
       "      <td>495</td>\n",
       "      <td>0.495184</td>\n",
       "    </tr>\n",
       "  </tbody>\n",
       "</table>\n",
       "<p>99 rows × 2 columns</p>\n",
       "</div>"
      ],
      "text/plain": [
       "    n_estimator      rmse\n",
       "0             5  0.511921\n",
       "1            10  0.508835\n",
       "2            15  0.509756\n",
       "3            20  0.503125\n",
       "4            25  0.501046\n",
       "..          ...       ...\n",
       "94          475  0.494770\n",
       "95          480  0.494790\n",
       "96          485  0.494947\n",
       "97          490  0.495178\n",
       "98          495  0.495184\n",
       "\n",
       "[99 rows x 2 columns]"
      ]
     },
     "execution_count": 19,
     "metadata": {},
     "output_type": "execute_result"
    }
   ],
   "source": [
    "'''\n",
    "Error table for \n",
    "\n",
    "n estimator evaluation\n",
    "\n",
    "'''\n",
    "n=list(range(min_n_est,max_n_est,n_step))\n",
    "\n",
    "err_matrix=pd.DataFrame({'n_estimator':n,\n",
    "                         'rmse':rmse_n_est},\n",
    "                        columns=['n_estimator','rmse'])\n",
    "err_matrix\n"
   ]
  },
  {
   "cell_type": "code",
   "execution_count": 92,
   "id": "0e1a3cc8",
   "metadata": {},
   "outputs": [
    {
     "data": {
      "image/png": "[encoded data removed]",
      "text/plain": [
       "<Figure size 576x432 with 1 Axes>"
      ]
     },
     "metadata": {
      "needs_background": "light"
     },
     "output_type": "display_data"
    }
   ],
   "source": [
    "'''\n",
    "Elbow plot for e estimator optimization\n",
    "\n",
    "'''\n",
    "\n",
    "\n",
    "fig, ax = plt.subplots()\n",
    "\n",
    "fig.set_figheight(6)\n",
    "fig.set_figwidth(8)\n",
    "ax.plot(range(min_n_est,max_n_est,n_step), rmse,)\n",
    "\n",
    "ax.set(xlabel='n_estimators', ylabel='rmse',\n",
    "       title='Test')\n",
    "ax.grid()\n",
    "fig.savefig(\"test.png\")\n",
    "plt.show()\n"
   ]
  },
  {
   "cell_type": "code",
   "execution_count": 20,
   "id": "2e470aaa",
   "metadata": {},
   "outputs": [
    {
     "name": "stdout",
     "output_type": "stream",
     "text": [
      "Minimum rmse is  0.492\n",
      "The optial n esimator is  145\n"
     ]
    }
   ],
   "source": [
    "print('Minimum rmse is ',round(err_matrix['rmse'].min(),4))\n",
    "print('The optial n esimator is ',err_matrix['n_estimator'][err_matrix['rmse'].idxmin()])"
   ]
  },
  {
   "cell_type": "code",
   "execution_count": 21,
   "id": "b7c29248",
   "metadata": {},
   "outputs": [
    {
     "data": {
      "text/plain": [
       "253.38629388809204"
      ]
     },
     "execution_count": 21,
     "metadata": {},
     "output_type": "execute_result"
    }
   ],
   "source": [
    "'''\n",
    "This is to test the optimal max depth\n",
    "@ n estimator=145\n",
    "\n",
    "'''\n",
    "\n",
    "min_depth=1\n",
    "max_depth=100\n",
    "d_step=1\n",
    "rmse_depth=[]\n",
    "\n",
    "for i in range(min_depth,max_depth,d_step):\n",
    "    bty_mod=RandomForestRegressor(n_estimators=145, max_depth=i, max_leaf_nodes=500, min_samples_split=2, max_features='sqrt', random_state=42)\n",
    "    bty_mod.fit(X_train,y_train)\n",
    "    \n",
    "    y_pred=bty_mod.predict(X_test)\n",
    "    rmse_depth.append(np.sqrt(metrics.mean_squared_error(y_test, y_pred)))\n",
    "\n",
    "time2=time.time()\n",
    "time_diff=time2-time1\n",
    "\n",
    "print('total time {}'.format(time_diff))"
   ]
  },
  {
   "cell_type": "code",
   "execution_count": 22,
   "id": "2a579918",
   "metadata": {},
   "outputs": [
    {
     "data": {
      "text/html": [
       "<div>\n",
       "<style scoped>\n",
       "    .dataframe tbody tr th:only-of-type {\n",
       "        vertical-align: middle;\n",
       "    }\n",
       "\n",
       "    .dataframe tbody tr th {\n",
       "        vertical-align: top;\n",
       "    }\n",
       "\n",
       "    .dataframe thead th {\n",
       "        text-align: right;\n",
       "    }\n",
       "</style>\n",
       "<table border=\"1\" class=\"dataframe\">\n",
       "  <thead>\n",
       "    <tr style=\"text-align: right;\">\n",
       "      <th></th>\n",
       "      <th>max_depth</th>\n",
       "      <th>rmse</th>\n",
       "    </tr>\n",
       "  </thead>\n",
       "  <tbody>\n",
       "    <tr>\n",
       "      <th>0</th>\n",
       "      <td>1</td>\n",
       "      <td>0.448857</td>\n",
       "    </tr>\n",
       "    <tr>\n",
       "      <th>1</th>\n",
       "      <td>2</td>\n",
       "      <td>0.429566</td>\n",
       "    </tr>\n",
       "    <tr>\n",
       "      <th>2</th>\n",
       "      <td>3</td>\n",
       "      <td>0.420905</td>\n",
       "    </tr>\n",
       "    <tr>\n",
       "      <th>3</th>\n",
       "      <td>4</td>\n",
       "      <td>0.421589</td>\n",
       "    </tr>\n",
       "    <tr>\n",
       "      <th>4</th>\n",
       "      <td>5</td>\n",
       "      <td>0.429894</td>\n",
       "    </tr>\n",
       "    <tr>\n",
       "      <th>...</th>\n",
       "      <td>...</td>\n",
       "      <td>...</td>\n",
       "    </tr>\n",
       "    <tr>\n",
       "      <th>94</th>\n",
       "      <td>95</td>\n",
       "      <td>0.491990</td>\n",
       "    </tr>\n",
       "    <tr>\n",
       "      <th>95</th>\n",
       "      <td>96</td>\n",
       "      <td>0.491990</td>\n",
       "    </tr>\n",
       "    <tr>\n",
       "      <th>96</th>\n",
       "      <td>97</td>\n",
       "      <td>0.491990</td>\n",
       "    </tr>\n",
       "    <tr>\n",
       "      <th>97</th>\n",
       "      <td>98</td>\n",
       "      <td>0.491990</td>\n",
       "    </tr>\n",
       "    <tr>\n",
       "      <th>98</th>\n",
       "      <td>99</td>\n",
       "      <td>0.491990</td>\n",
       "    </tr>\n",
       "  </tbody>\n",
       "</table>\n",
       "<p>99 rows × 2 columns</p>\n",
       "</div>"
      ],
      "text/plain": [
       "    max_depth      rmse\n",
       "0           1  0.448857\n",
       "1           2  0.429566\n",
       "2           3  0.420905\n",
       "3           4  0.421589\n",
       "4           5  0.429894\n",
       "..        ...       ...\n",
       "94         95  0.491990\n",
       "95         96  0.491990\n",
       "96         97  0.491990\n",
       "97         98  0.491990\n",
       "98         99  0.491990\n",
       "\n",
       "[99 rows x 2 columns]"
      ]
     },
     "execution_count": 22,
     "metadata": {},
     "output_type": "execute_result"
    }
   ],
   "source": [
    "'''\n",
    "error table for \n",
    "\n",
    "max depth evaluation\n",
    "\n",
    "'''\n",
    "\n",
    "n=list(range(min_depth,max_depth,d_step))\n",
    "\n",
    "err_matrix=pd.DataFrame({'max_depth':n,\n",
    "                         'rmse':rmse_depth},\n",
    "                        columns=['max_depth','rmse'])\n",
    "err_matrix"
   ]
  },
  {
   "cell_type": "code",
   "execution_count": 23,
   "id": "d2ad027a",
   "metadata": {},
   "outputs": [
    {
     "name": "stdout",
     "output_type": "stream",
     "text": [
      "Minimum rmse is  0.4209\n",
      "The optimal max depth is  3\n"
     ]
    }
   ],
   "source": [
    "print('Minimum rmse is ',round(err_matrix['rmse'].min(),4))\n",
    "print('The optimal max depth is ',err_matrix['max_depth'][err_matrix['rmse'].idxmin()])"
   ]
  },
  {
   "cell_type": "code",
   "execution_count": 24,
   "id": "781faccc",
   "metadata": {},
   "outputs": [
    {
     "name": "stdout",
     "output_type": "stream",
     "text": [
      "total time 427.4581923484802\n"
     ]
    }
   ],
   "source": [
    "'''\n",
    "Optimize max_leaf_nodes\n",
    "\n",
    "'''\n",
    "\n",
    "min_leaf=2\n",
    "max_leaf=100\n",
    "l_step=1\n",
    "rmse_leaf=[]\n",
    "\n",
    "for i in range(min_leaf,max_leaf,l_step):\n",
    "    bty_mod=RandomForestRegressor(n_estimators=145, max_depth=3, max_leaf_nodes=i, min_samples_split=2, max_features='sqrt', random_state=42)\n",
    "    bty_mod.fit(X_train,y_train)\n",
    "    \n",
    "    y_pred=bty_mod.predict(X_test)\n",
    "    rmse_leaf.append(np.sqrt(metrics.mean_squared_error(y_test, y_pred)))\n",
    "\n",
    "time2=time.time()\n",
    "time_diff=time2-time1\n",
    "\n",
    "print('total time {}'.format(time_diff))"
   ]
  },
  {
   "cell_type": "code",
   "execution_count": 26,
   "id": "335a7737",
   "metadata": {},
   "outputs": [
    {
     "data": {
      "text/html": [
       "<div>\n",
       "<style scoped>\n",
       "    .dataframe tbody tr th:only-of-type {\n",
       "        vertical-align: middle;\n",
       "    }\n",
       "\n",
       "    .dataframe tbody tr th {\n",
       "        vertical-align: top;\n",
       "    }\n",
       "\n",
       "    .dataframe thead th {\n",
       "        text-align: right;\n",
       "    }\n",
       "</style>\n",
       "<table border=\"1\" class=\"dataframe\">\n",
       "  <thead>\n",
       "    <tr style=\"text-align: right;\">\n",
       "      <th></th>\n",
       "      <th>max_leaf</th>\n",
       "      <th>rmse</th>\n",
       "    </tr>\n",
       "  </thead>\n",
       "  <tbody>\n",
       "    <tr>\n",
       "      <th>0</th>\n",
       "      <td>2</td>\n",
       "      <td>0.448857</td>\n",
       "    </tr>\n",
       "    <tr>\n",
       "      <th>1</th>\n",
       "      <td>3</td>\n",
       "      <td>0.431999</td>\n",
       "    </tr>\n",
       "    <tr>\n",
       "      <th>2</th>\n",
       "      <td>4</td>\n",
       "      <td>0.424252</td>\n",
       "    </tr>\n",
       "    <tr>\n",
       "      <th>3</th>\n",
       "      <td>5</td>\n",
       "      <td>0.422015</td>\n",
       "    </tr>\n",
       "    <tr>\n",
       "      <th>4</th>\n",
       "      <td>6</td>\n",
       "      <td>0.421255</td>\n",
       "    </tr>\n",
       "    <tr>\n",
       "      <th>5</th>\n",
       "      <td>7</td>\n",
       "      <td>0.420143</td>\n",
       "    </tr>\n",
       "    <tr>\n",
       "      <th>6</th>\n",
       "      <td>8</td>\n",
       "      <td>0.420905</td>\n",
       "    </tr>\n",
       "    <tr>\n",
       "      <th>7</th>\n",
       "      <td>9</td>\n",
       "      <td>0.420905</td>\n",
       "    </tr>\n",
       "    <tr>\n",
       "      <th>8</th>\n",
       "      <td>10</td>\n",
       "      <td>0.420905</td>\n",
       "    </tr>\n",
       "    <tr>\n",
       "      <th>9</th>\n",
       "      <td>11</td>\n",
       "      <td>0.420905</td>\n",
       "    </tr>\n",
       "  </tbody>\n",
       "</table>\n",
       "</div>"
      ],
      "text/plain": [
       "   max_leaf      rmse\n",
       "0         2  0.448857\n",
       "1         3  0.431999\n",
       "2         4  0.424252\n",
       "3         5  0.422015\n",
       "4         6  0.421255\n",
       "5         7  0.420143\n",
       "6         8  0.420905\n",
       "7         9  0.420905\n",
       "8        10  0.420905\n",
       "9        11  0.420905"
      ]
     },
     "execution_count": 26,
     "metadata": {},
     "output_type": "execute_result"
    }
   ],
   "source": [
    "n=list(range(min_leaf,max_leaf,l_step))\n",
    "\n",
    "err_matrix=pd.DataFrame({'max_leaf':n,\n",
    "                         'rmse':rmse_leaf},\n",
    "                        columns=['max_leaf','rmse'])\n",
    "err_matrix.head(10)"
   ]
  },
  {
   "cell_type": "code",
   "execution_count": 27,
   "id": "4b6a5831",
   "metadata": {},
   "outputs": [
    {
     "name": "stdout",
     "output_type": "stream",
     "text": [
      "Minimum rmse is  0.4201\n",
      "The optimal max leaf nodes # is  7\n"
     ]
    }
   ],
   "source": [
    "print('Minimum rmse is ',round(err_matrix['rmse'].min(),4))\n",
    "print('The optimal max leaf nodes # is ',err_matrix['max_leaf'][err_matrix['rmse'].idxmin()])"
   ]
  },
  {
   "cell_type": "code",
   "execution_count": 29,
   "id": "94815250",
   "metadata": {},
   "outputs": [],
   "source": [
    "'''\n",
    "Final model\n",
    "\n",
    "n_estimators=145\n",
    "max_depth=3\n",
    "max_leaf_nodes=7\n",
    "\n",
    "'''\n",
    "rmse=[]\n",
    "\n",
    "bty_mod=RandomForestRegressor(n_estimators=145, max_depth=3, max_leaf_nodes=7, min_samples_split=2, max_features='sqrt', random_state=42)\n",
    "bty_mod.fit(X_train,y_train)\n",
    "    \n",
    "y_pred=bty_mod.predict(X_test)\n",
    "rmse.append(np.sqrt(metrics.mean_squared_error(y_test, y_pred)))\n"
   ]
  },
  {
   "cell_type": "code",
   "execution_count": 30,
   "id": "13856fab",
   "metadata": {},
   "outputs": [
    {
     "name": "stdout",
     "output_type": "stream",
     "text": [
      "BeautyScore    0.59\n",
      "female         0.18\n",
      "lower          0.15\n",
      "nonenglish     0.04\n",
      "tenuretrack    0.04\n",
      "dtype: float64\n"
     ]
    }
   ],
   "source": [
    "'''\n",
    "Feature importance ranking\n",
    "\n",
    "'''\n",
    "\n",
    "\n",
    "importances = bty_mod.feature_importances_\n",
    "\n",
    "feature_names=list(beauty)\n",
    "\n",
    "feature_names.remove('CourseEvals')\n",
    "\n",
    "features_importance = pd.Series(importances, index=feature_names)\n",
    "\n",
    "print(round(features_importance,2))"
   ]
  },
  {
   "cell_type": "code",
   "execution_count": 79,
   "id": "69e74d37",
   "metadata": {},
   "outputs": [
    {
     "data": {
      "text/plain": [
       "['BeautyScore', 'female', 'lower', 'nonenglish', 'tenuretrack']"
      ]
     },
     "execution_count": 79,
     "metadata": {},
     "output_type": "execute_result"
    }
   ],
   "source": [
    "feature_names"
   ]
  },
  {
   "cell_type": "code",
   "execution_count": 147,
   "id": "5c5fe4a7",
   "metadata": {},
   "outputs": [
    {
     "data": {
      "image/png": "[encoded data removed]",
      "text/plain": [
       "<Figure size 600x400 with 1 Axes>"
      ]
     },
     "metadata": {
      "needs_background": "light"
     },
     "output_type": "display_data"
    }
   ],
   "source": [
    "'''\n",
    "Plot feature importance bar plot\n",
    "\n",
    "'''\n",
    "\n",
    "Plot\n",
    "plt.figure(figsize=(3, 2), dpi=200)\n",
    "plt.title('Feature Importances')\n",
    "plt.gca().invert_yaxis()\n",
    "plt.barh(feature_names,features_importance, color='b', align='center')\n",
    "plt.xlabel('Relative Importance')\n",
    "plt.show()"
   ]
  },
  {
   "cell_type": "code",
   "execution_count": 161,
   "id": "c5ba5f3e",
   "metadata": {},
   "outputs": [
    {
     "name": "stdout",
     "output_type": "stream",
     "text": [
      "Mean Absolute Error: 0.3491\n",
      "Mean Squared Error: 0.1765\n",
      "Root Mean Squared Error: 0.4201\n"
     ]
    }
   ],
   "source": [
    "'''\n",
    "Evaluating the Algorithm\n",
    "\n",
    "'''\n",
    "\n",
    "from sklearn import metrics \n",
    "print('Mean Absolute Error:', round(metrics.mean_absolute_error(y_test, y_pred),4))\n",
    "print('Mean Squared Error:',round(metrics.mean_squared_error(y_test, y_pred),4))\n",
    "print('Root Mean Squared Error:', round(np.sqrt(metrics.mean_squared_error(y_test, y_pred)),4))"
   ]
  }
 ],
 "metadata": {
  "kernelspec": {
   "display_name": "Python 3",
   "language": "python",
   "name": "python3"
  },
  "language_info": {
   "codemirror_mode": {
    "name": "ipython",
    "version": 3
   },
   "file_extension": ".py",
   "mimetype": "text/x-python",
   "name": "python",
   "nbconvert_exporter": "python",
   "pygments_lexer": "ipython3",
   "version": "3.8.8"
  }
 },
 "nbformat": 4,
 "nbformat_minor": 5
}
